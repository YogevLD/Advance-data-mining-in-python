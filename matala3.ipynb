{
 "cells": [
  {
   "cell_type": "code",
   "execution_count": 12,
   "id": "d24ccc32-139b-4b7c-ad4e-c620b8289b3d",
   "metadata": {},
   "outputs": [],
   "source": [
    "import pandas as pd\n",
    "import json\n",
    "import requests\n",
    "import geopy\n",
    "from geopy import distance\n",
    "from datetime import datetime"
   ]
  },
  {
   "cell_type": "code",
   "execution_count": 13,
   "id": "f8e23cd7-a9f0-49ba-b011-76353cca1a7e",
   "metadata": {},
   "outputs": [],
   "source": [
    "myurl = '/Users/yogevladani/study/year c/ניתוח בפייתון/מטלות/matala3/dests.txt'"
   ]
  },
  {
   "cell_type": "code",
   "execution_count": 14,
   "id": "35d7d946-319d-4dac-ac7f-170ff51526ec",
   "metadata": {},
   "outputs": [
    {
     "data": {
      "text/plain": [
       "['Istanbul', 'Amsterdam', 'Valletta', 'Basel', 'Doha']"
      ]
     },
     "execution_count": 14,
     "metadata": {},
     "output_type": "execute_result"
    }
   ],
   "source": [
    "destinations = [line.rstrip() for line in open(myurl)]\n",
    "destinations\n",
    "origion='tel aviv'\n",
    "destinations"
   ]
  },
  {
   "cell_type": "markdown",
   "id": "e9196f4f-a2a0-42e7-a4ae-6f7560c0a79a",
   "metadata": {},
   "source": [
    "### Create list for the distance and duration and append the values for every destionation from the text file."
   ]
  },
  {
   "cell_type": "code",
   "execution_count": 57,
   "id": "65748687-ae02-4e94-abbd-e5bd94f544da",
   "metadata": {},
   "outputs": [],
   "source": [
    "distances=[]\n",
    "durations=[]\n",
    "\n",
    "for i in range(0,len(destinations)):\n",
    "    \n",
    "    url=\"https://maps.googleapis.com/maps/api/distancematrix/json?origins=%s&destinations=%s&=imperial&key=%s\" % (origion,destinations[i],api_key)\n",
    "\n",
    "    try:\n",
    "        response = requests.get(url)\n",
    "        if not response.status_code == 200:\n",
    "            print(\"HTTP error\",response.status_code)\n",
    "        else:\n",
    "            try:\n",
    "                response_data = response.json()\n",
    "            except:\n",
    "                print(\"Response not in valid JSON format\")\n",
    "    except:\n",
    "        print(\"Something went wrong with requests.get\")\n",
    "    \n",
    "    distances.append(response_data['rows'][0]['elements'][0]['distance']['value'])\n",
    "    durations.append(response_data['rows'][0]['elements'][0]['duration']['value'])\n"
   ]
  },
  {
   "cell_type": "markdown",
   "id": "fb5c8ddb-23a6-4445-b5e4-6ba4b913b7fc",
   "metadata": {},
   "source": [
    "### Convert the durations values to hours and minutes.\n",
    "### There e-mach between the values and text becaues they dont show the seconds in the text and the values are in seconds."
   ]
  },
  {
   "cell_type": "code",
   "execution_count": 98,
   "id": "968dbd75-a625-4d7f-9d82-4deb790fe4c5",
   "metadata": {},
   "outputs": [],
   "source": [
    "def convert_to_hours_minutes(duration):\n",
    "    # Convert duration to hours and minutes\n",
    "    hours = duration // 3600\n",
    "    minutes = (duration % 3600)//60\n",
    "    return f\"{hours} hours {minutes} minutes\"\n",
    "\n",
    "converted_durations=[]\n",
    "for duration in durations:\n",
    "    converted_durations.append(convert_to_hours_minutes(duration))\n",
    "    \n"
   ]
  },
  {
   "cell_type": "code",
   "execution_count": 99,
   "id": "2f568e43-782d-4da1-8ec8-82fe76777be9",
   "metadata": {},
   "outputs": [
    {
     "data": {
      "text/plain": [
       "['21 hours 2 minutes',\n",
       " '48 hours 3 minutes',\n",
       " '50 hours 52 minutes',\n",
       " '44 hours 9 minutes',\n",
       " '22 hours 38 minutes']"
      ]
     },
     "execution_count": 99,
     "metadata": {},
     "output_type": "execute_result"
    }
   ],
   "source": [
    "converted_durations"
   ]
  },
  {
   "cell_type": "markdown",
   "id": "6d74fff0-a9bf-44d6-bd26-70acddb49cba",
   "metadata": {},
   "source": [
    "### Create list for the lng and lat and append the values for every destionation from the text file."
   ]
  },
  {
   "cell_type": "code",
   "execution_count": 100,
   "id": "42d1e09b-e6e0-41b3-b17b-aa917ef92c5b",
   "metadata": {},
   "outputs": [],
   "source": [
    "lng=[]\n",
    "lat=[]\n",
    "\n",
    "for i in range (0,len(destinations)):\n",
    "    url=\"https://maps.googleapis.com/maps/api/geocode/json?address=%s&key=%s\"  % (destinations[i],api_key)\n",
    "    try:\n",
    "        response = requests.get(url)\n",
    "        if not response.status_code == 200:\n",
    "            print(\"HTTP error\",response.status_code)\n",
    "        else:\n",
    "            try:\n",
    "                response_data = response.json()\n",
    "            except:\n",
    "                print(\"Response not in valid JSON format\")\n",
    "    except:\n",
    "        print(\"Something went wrong with requests.get\")\n",
    "    lat.append(response_data['results'][0]['geometry']['location']['lat'])\n",
    "    lng.append(response_data['results'][0]['geometry']['location']['lng'])\n",
    "    "
   ]
  },
  {
   "cell_type": "code",
   "execution_count": 101,
   "id": "c078868f-321c-4bd7-bac5-f41bf8477898",
   "metadata": {},
   "outputs": [
    {
     "name": "stdout",
     "output_type": "stream",
     "text": [
      "[41.0082376, 52.3675734, 35.8992375, 47.5595986, 25.2854473] \n",
      " [28.9783589, 4.9041389, 14.5140996, 7.5885761, 51.53103979999999]\n"
     ]
    }
   ],
   "source": [
    "print(lat,'\\n',lng)"
   ]
  },
  {
   "cell_type": "markdown",
   "id": "5734e680-b7cc-44fa-aa7f-6c38a68e4d3a",
   "metadata": {},
   "source": [
    "### Create the data"
   ]
  },
  {
   "cell_type": "code",
   "execution_count": 102,
   "id": "50a9d971-dbe1-4d5b-bb54-38e96cbc341a",
   "metadata": {},
   "outputs": [],
   "source": [
    "data={'Target':destinations,'Distance_km':distances,'Duration (hour+minutes)':converted_durations,'Longitude':lng,'latitude':lat}\n"
   ]
  },
  {
   "cell_type": "code",
   "execution_count": 103,
   "id": "5d8901a9-f9f1-4234-afe0-e7708c584172",
   "metadata": {},
   "outputs": [
    {
     "data": {
      "text/html": [
       "<div>\n",
       "<style scoped>\n",
       "    .dataframe tbody tr th:only-of-type {\n",
       "        vertical-align: middle;\n",
       "    }\n",
       "\n",
       "    .dataframe tbody tr th {\n",
       "        vertical-align: top;\n",
       "    }\n",
       "\n",
       "    .dataframe thead th {\n",
       "        text-align: right;\n",
       "    }\n",
       "</style>\n",
       "<table border=\"1\" class=\"dataframe\">\n",
       "  <thead>\n",
       "    <tr style=\"text-align: right;\">\n",
       "      <th></th>\n",
       "      <th>Target</th>\n",
       "      <th>Distance_km</th>\n",
       "      <th>Duration (hour+minutes)</th>\n",
       "      <th>Longitude</th>\n",
       "      <th>latitude</th>\n",
       "    </tr>\n",
       "  </thead>\n",
       "  <tbody>\n",
       "    <tr>\n",
       "      <th>0</th>\n",
       "      <td>Istanbul</td>\n",
       "      <td>1815227</td>\n",
       "      <td>21 hours 2 minutes</td>\n",
       "      <td>28.978359</td>\n",
       "      <td>41.008238</td>\n",
       "    </tr>\n",
       "    <tr>\n",
       "      <th>1</th>\n",
       "      <td>Amsterdam</td>\n",
       "      <td>4532541</td>\n",
       "      <td>48 hours 3 minutes</td>\n",
       "      <td>4.904139</td>\n",
       "      <td>52.367573</td>\n",
       "    </tr>\n",
       "    <tr>\n",
       "      <th>2</th>\n",
       "      <td>Valletta</td>\n",
       "      <td>3792882</td>\n",
       "      <td>50 hours 52 minutes</td>\n",
       "      <td>14.514100</td>\n",
       "      <td>35.899237</td>\n",
       "    </tr>\n",
       "    <tr>\n",
       "      <th>3</th>\n",
       "      <td>Basel</td>\n",
       "      <td>4118225</td>\n",
       "      <td>44 hours 9 minutes</td>\n",
       "      <td>7.588576</td>\n",
       "      <td>47.559599</td>\n",
       "    </tr>\n",
       "    <tr>\n",
       "      <th>4</th>\n",
       "      <td>Doha</td>\n",
       "      <td>2164477</td>\n",
       "      <td>22 hours 38 minutes</td>\n",
       "      <td>51.531040</td>\n",
       "      <td>25.285447</td>\n",
       "    </tr>\n",
       "  </tbody>\n",
       "</table>\n",
       "</div>"
      ],
      "text/plain": [
       "      Target  Distance_km Duration (hour+minutes)  Longitude   latitude\n",
       "0   Istanbul      1815227      21 hours 2 minutes  28.978359  41.008238\n",
       "1  Amsterdam      4532541      48 hours 3 minutes   4.904139  52.367573\n",
       "2   Valletta      3792882     50 hours 52 minutes  14.514100  35.899237\n",
       "3      Basel      4118225      44 hours 9 minutes   7.588576  47.559599\n",
       "4       Doha      2164477     22 hours 38 minutes  51.531040  25.285447"
      ]
     },
     "execution_count": 103,
     "metadata": {},
     "output_type": "execute_result"
    }
   ],
   "source": [
    "data=pd.DataFrame(data)\n",
    "data"
   ]
  },
  {
   "cell_type": "markdown",
   "id": "0e348ba0-77ef-406a-8d8c-2df004dc8e14",
   "metadata": {},
   "source": [
    "### Use nlargest(n) to get the 3 longest distances."
   ]
  },
  {
   "cell_type": "code",
   "execution_count": 104,
   "id": "7c184fe4-3e0b-4572-bd15-de1abd0f7e7c",
   "metadata": {},
   "outputs": [
    {
     "data": {
      "text/plain": [
       "1    4532541\n",
       "3    4118225\n",
       "2    3792882\n",
       "Name: Distance_km, dtype: int64"
      ]
     },
     "execution_count": 104,
     "metadata": {},
     "output_type": "execute_result"
    }
   ],
   "source": [
    "data.Distance_km.nlargest(3)"
   ]
  },
  {
   "cell_type": "markdown",
   "id": "7ae5cc3e-b9e3-4a07-b256-4bbb273c3db2",
   "metadata": {},
   "source": [
    "### The 3 farthest destinations."
   ]
  },
  {
   "cell_type": "code",
   "execution_count": 105,
   "id": "f4030034-9d98-4b2e-9f8a-89ab14aaa04e",
   "metadata": {},
   "outputs": [
    {
     "data": {
      "text/html": [
       "<div>\n",
       "<style scoped>\n",
       "    .dataframe tbody tr th:only-of-type {\n",
       "        vertical-align: middle;\n",
       "    }\n",
       "\n",
       "    .dataframe tbody tr th {\n",
       "        vertical-align: top;\n",
       "    }\n",
       "\n",
       "    .dataframe thead th {\n",
       "        text-align: right;\n",
       "    }\n",
       "</style>\n",
       "<table border=\"1\" class=\"dataframe\">\n",
       "  <thead>\n",
       "    <tr style=\"text-align: right;\">\n",
       "      <th></th>\n",
       "      <th>Target</th>\n",
       "      <th>Distance_km</th>\n",
       "    </tr>\n",
       "  </thead>\n",
       "  <tbody>\n",
       "    <tr>\n",
       "      <th>1</th>\n",
       "      <td>Amsterdam</td>\n",
       "      <td>4532541</td>\n",
       "    </tr>\n",
       "    <tr>\n",
       "      <th>3</th>\n",
       "      <td>Basel</td>\n",
       "      <td>4118225</td>\n",
       "    </tr>\n",
       "    <tr>\n",
       "      <th>2</th>\n",
       "      <td>Valletta</td>\n",
       "      <td>3792882</td>\n",
       "    </tr>\n",
       "  </tbody>\n",
       "</table>\n",
       "</div>"
      ],
      "text/plain": [
       "      Target  Distance_km\n",
       "1  Amsterdam      4532541\n",
       "3      Basel      4118225\n",
       "2   Valletta      3792882"
      ]
     },
     "execution_count": 105,
     "metadata": {},
     "output_type": "execute_result"
    }
   ],
   "source": [
    "data.loc[data['Distance_km'].nlargest(3).index, ['Target','Distance_km']]"
   ]
  },
  {
   "cell_type": "code",
   "execution_count": null,
   "id": "589dc75a-6987-4e76-b69f-a628f8a55490",
   "metadata": {},
   "outputs": [],
   "source": []
  }
 ],
 "metadata": {
  "kernelspec": {
   "display_name": "Python 3 (ipykernel)",
   "language": "python",
   "name": "python3"
  },
  "language_info": {
   "codemirror_mode": {
    "name": "ipython",
    "version": 3
   },
   "file_extension": ".py",
   "mimetype": "text/x-python",
   "name": "python",
   "nbconvert_exporter": "python",
   "pygments_lexer": "ipython3",
   "version": "3.9.12"
  }
 },
 "nbformat": 4,
 "nbformat_minor": 5
}
