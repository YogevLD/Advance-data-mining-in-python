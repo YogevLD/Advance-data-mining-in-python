{
 "cells": [
  {
   "cell_type": "code",
   "execution_count": 1,
   "id": "a6cd0335-c438-4e1f-a0a9-0bcabd59a073",
   "metadata": {},
   "outputs": [],
   "source": [
    "import pandas as pd\n",
    "import numpy as np\n",
    "import re\n",
    "from datetime import timedelta\n",
    "import matplotlib.pyplot as plt\n",
    "import seaborn as sns"
   ]
  },
  {
   "cell_type": "code",
   "execution_count": 2,
   "id": "a88026f4-8080-48c5-aaef-99f63e7fb26c",
   "metadata": {},
   "outputs": [],
   "source": [
    "datafile= '/Users/yogevladani/study/year c/ניתוח בפייתון/מטלות/matala2/matala2_cosmetics_2019-Nov.csv'"
   ]
  },
  {
   "cell_type": "code",
   "execution_count": 3,
   "id": "c69b907b-93a3-443b-83bf-a7087c855e3d",
   "metadata": {},
   "outputs": [
    {
     "name": "stderr",
     "output_type": "stream",
     "text": [
      "/var/folders/gw/_gx47l1n2cb_95xxx6f5632h0000gn/T/ipykernel_26157/181785712.py:1: DtypeWarning: Columns (6) have mixed types. Specify dtype option on import or set low_memory=False.\n",
      "  data= pd.read_csv(datafile)\n"
     ]
    },
    {
     "data": {
      "text/html": [
       "<div>\n",
       "<style scoped>\n",
       "    .dataframe tbody tr th:only-of-type {\n",
       "        vertical-align: middle;\n",
       "    }\n",
       "\n",
       "    .dataframe tbody tr th {\n",
       "        vertical-align: top;\n",
       "    }\n",
       "\n",
       "    .dataframe thead th {\n",
       "        text-align: right;\n",
       "    }\n",
       "</style>\n",
       "<table border=\"1\" class=\"dataframe\">\n",
       "  <thead>\n",
       "    <tr style=\"text-align: right;\">\n",
       "      <th></th>\n",
       "      <th>event_time</th>\n",
       "      <th>event_type</th>\n",
       "      <th>product_id</th>\n",
       "      <th>category_id</th>\n",
       "      <th>category_code</th>\n",
       "      <th>brand</th>\n",
       "      <th>price</th>\n",
       "      <th>user_id</th>\n",
       "      <th>user_session</th>\n",
       "    </tr>\n",
       "  </thead>\n",
       "  <tbody>\n",
       "    <tr>\n",
       "      <th>0</th>\n",
       "      <td>2019-11-01 00:00:02 UTC</td>\n",
       "      <td>view</td>\n",
       "      <td>5802432</td>\n",
       "      <td>1487580009286598681</td>\n",
       "      <td>NaN</td>\n",
       "      <td>NaN</td>\n",
       "      <td>0.32</td>\n",
       "      <td>562076640</td>\n",
       "      <td>09fafd6c-6c99-46b1-834f-33527f4de241</td>\n",
       "    </tr>\n",
       "    <tr>\n",
       "      <th>1</th>\n",
       "      <td>2019-11-01 00:00:09 UTC</td>\n",
       "      <td>cart</td>\n",
       "      <td>5844397</td>\n",
       "      <td>1487580006317032337</td>\n",
       "      <td>NaN</td>\n",
       "      <td>NaN</td>\n",
       "      <td>2.38</td>\n",
       "      <td>553329724</td>\n",
       "      <td>2067216c-31b5-455d-a1cc-af0575a34ffb</td>\n",
       "    </tr>\n",
       "    <tr>\n",
       "      <th>2</th>\n",
       "      <td>2019-11-01 00:00:10 UTC</td>\n",
       "      <td>view</td>\n",
       "      <td>5837166</td>\n",
       "      <td>1783999064103190764</td>\n",
       "      <td>NaN</td>\n",
       "      <td>pnb</td>\n",
       "      <td>22.22</td>\n",
       "      <td>556138645</td>\n",
       "      <td>57ed222e-a54a-4907-9944-5a875c2d7f4f</td>\n",
       "    </tr>\n",
       "    <tr>\n",
       "      <th>3</th>\n",
       "      <td>2019-11-01 00:00:11 UTC</td>\n",
       "      <td>cart</td>\n",
       "      <td>5876812</td>\n",
       "      <td>1487580010100293687</td>\n",
       "      <td>NaN</td>\n",
       "      <td>jessnail</td>\n",
       "      <td>3.16</td>\n",
       "      <td>564506666</td>\n",
       "      <td>186c1951-8052-4b37-adce-dd9644b1d5f7</td>\n",
       "    </tr>\n",
       "    <tr>\n",
       "      <th>4</th>\n",
       "      <td>2019-11-01 00:00:24 UTC</td>\n",
       "      <td>remove_from_cart</td>\n",
       "      <td>5826182</td>\n",
       "      <td>1487580007483048900</td>\n",
       "      <td>NaN</td>\n",
       "      <td>NaN</td>\n",
       "      <td>3.33</td>\n",
       "      <td>553329724</td>\n",
       "      <td>2067216c-31b5-455d-a1cc-af0575a34ffb</td>\n",
       "    </tr>\n",
       "  </tbody>\n",
       "</table>\n",
       "</div>"
      ],
      "text/plain": [
       "                event_time        event_type  product_id          category_id  \\\n",
       "0  2019-11-01 00:00:02 UTC              view     5802432  1487580009286598681   \n",
       "1  2019-11-01 00:00:09 UTC              cart     5844397  1487580006317032337   \n",
       "2  2019-11-01 00:00:10 UTC              view     5837166  1783999064103190764   \n",
       "3  2019-11-01 00:00:11 UTC              cart     5876812  1487580010100293687   \n",
       "4  2019-11-01 00:00:24 UTC  remove_from_cart     5826182  1487580007483048900   \n",
       "\n",
       "  category_code     brand  price    user_id  \\\n",
       "0           NaN       NaN   0.32  562076640   \n",
       "1           NaN       NaN   2.38  553329724   \n",
       "2           NaN       pnb  22.22  556138645   \n",
       "3           NaN  jessnail   3.16  564506666   \n",
       "4           NaN       NaN   3.33  553329724   \n",
       "\n",
       "                           user_session  \n",
       "0  09fafd6c-6c99-46b1-834f-33527f4de241  \n",
       "1  2067216c-31b5-455d-a1cc-af0575a34ffb  \n",
       "2  57ed222e-a54a-4907-9944-5a875c2d7f4f  \n",
       "3  186c1951-8052-4b37-adce-dd9644b1d5f7  \n",
       "4  2067216c-31b5-455d-a1cc-af0575a34ffb  "
      ]
     },
     "execution_count": 3,
     "metadata": {},
     "output_type": "execute_result"
    }
   ],
   "source": [
    "data= pd.read_csv(datafile)\n",
    "data.head()"
   ]
  },
  {
   "cell_type": "code",
   "execution_count": 4,
   "id": "a93d1c56-5f7a-4f60-b630-24adbb0fd85c",
   "metadata": {},
   "outputs": [],
   "source": [
    "#data=data.iloc[:100000]"
   ]
  },
  {
   "cell_type": "markdown",
   "id": "3368503e-20a7-4ea0-93a9-61052e72b4ec",
   "metadata": {
    "tags": []
   },
   "source": [
    "### Q1"
   ]
  },
  {
   "cell_type": "code",
   "execution_count": 5,
   "id": "e0dc602e-856b-4368-a6a8-c39b2eb00955",
   "metadata": {},
   "outputs": [],
   "source": [
    "data['event_time'] = pd.to_datetime(data['event_time'])"
   ]
  },
  {
   "cell_type": "code",
   "execution_count": 6,
   "id": "820c46d2-b05b-49b5-93fd-f9c181855d29",
   "metadata": {},
   "outputs": [
    {
     "data": {
      "text/plain": [
       "event_time       datetime64[ns, UTC]\n",
       "event_type                    object\n",
       "product_id                     int64\n",
       "category_id                    int64\n",
       "category_code                 object\n",
       "brand                         object\n",
       "price                         object\n",
       "user_id                        int64\n",
       "user_session                  object\n",
       "dtype: object"
      ]
     },
     "execution_count": 6,
     "metadata": {},
     "output_type": "execute_result"
    }
   ],
   "source": [
    "#data[\"event_time\"] = pd.to_datetime(data[\"event_time\"],format='%Y-%m-%d %H:%M:%S %Z')\n",
    "data.dtypes"
   ]
  },
  {
   "cell_type": "code",
   "execution_count": 7,
   "id": "f56ad3dd-35db-45c1-943f-43b64ded9800",
   "metadata": {},
   "outputs": [
    {
     "data": {
      "text/html": [
       "<div>\n",
       "<style scoped>\n",
       "    .dataframe tbody tr th:only-of-type {\n",
       "        vertical-align: middle;\n",
       "    }\n",
       "\n",
       "    .dataframe tbody tr th {\n",
       "        vertical-align: top;\n",
       "    }\n",
       "\n",
       "    .dataframe thead th {\n",
       "        text-align: right;\n",
       "    }\n",
       "</style>\n",
       "<table border=\"1\" class=\"dataframe\">\n",
       "  <thead>\n",
       "    <tr style=\"text-align: right;\">\n",
       "      <th></th>\n",
       "      <th>event_time</th>\n",
       "      <th>event_type</th>\n",
       "      <th>product_id</th>\n",
       "      <th>category_id</th>\n",
       "      <th>category_code</th>\n",
       "      <th>brand</th>\n",
       "      <th>price</th>\n",
       "      <th>user_id</th>\n",
       "      <th>user_session</th>\n",
       "    </tr>\n",
       "  </thead>\n",
       "  <tbody>\n",
       "    <tr>\n",
       "      <th>0</th>\n",
       "      <td>2019-11-01 00:00:02+00:00</td>\n",
       "      <td>view</td>\n",
       "      <td>5802432</td>\n",
       "      <td>1487580009286598681</td>\n",
       "      <td>NaN</td>\n",
       "      <td>NaN</td>\n",
       "      <td>0.32</td>\n",
       "      <td>562076640</td>\n",
       "      <td>09fafd6c-6c99-46b1-834f-33527f4de241</td>\n",
       "    </tr>\n",
       "    <tr>\n",
       "      <th>1</th>\n",
       "      <td>2019-11-01 00:00:09+00:00</td>\n",
       "      <td>cart</td>\n",
       "      <td>5844397</td>\n",
       "      <td>1487580006317032337</td>\n",
       "      <td>NaN</td>\n",
       "      <td>NaN</td>\n",
       "      <td>2.38</td>\n",
       "      <td>553329724</td>\n",
       "      <td>2067216c-31b5-455d-a1cc-af0575a34ffb</td>\n",
       "    </tr>\n",
       "    <tr>\n",
       "      <th>2</th>\n",
       "      <td>2019-11-01 00:00:10+00:00</td>\n",
       "      <td>view</td>\n",
       "      <td>5837166</td>\n",
       "      <td>1783999064103190764</td>\n",
       "      <td>NaN</td>\n",
       "      <td>pnb</td>\n",
       "      <td>22.22</td>\n",
       "      <td>556138645</td>\n",
       "      <td>57ed222e-a54a-4907-9944-5a875c2d7f4f</td>\n",
       "    </tr>\n",
       "    <tr>\n",
       "      <th>3</th>\n",
       "      <td>2019-11-01 00:00:11+00:00</td>\n",
       "      <td>cart</td>\n",
       "      <td>5876812</td>\n",
       "      <td>1487580010100293687</td>\n",
       "      <td>NaN</td>\n",
       "      <td>jessnail</td>\n",
       "      <td>3.16</td>\n",
       "      <td>564506666</td>\n",
       "      <td>186c1951-8052-4b37-adce-dd9644b1d5f7</td>\n",
       "    </tr>\n",
       "    <tr>\n",
       "      <th>4</th>\n",
       "      <td>2019-11-01 00:00:24+00:00</td>\n",
       "      <td>remove_from_cart</td>\n",
       "      <td>5826182</td>\n",
       "      <td>1487580007483048900</td>\n",
       "      <td>NaN</td>\n",
       "      <td>NaN</td>\n",
       "      <td>3.33</td>\n",
       "      <td>553329724</td>\n",
       "      <td>2067216c-31b5-455d-a1cc-af0575a34ffb</td>\n",
       "    </tr>\n",
       "  </tbody>\n",
       "</table>\n",
       "</div>"
      ],
      "text/plain": [
       "                 event_time        event_type  product_id  \\\n",
       "0 2019-11-01 00:00:02+00:00              view     5802432   \n",
       "1 2019-11-01 00:00:09+00:00              cart     5844397   \n",
       "2 2019-11-01 00:00:10+00:00              view     5837166   \n",
       "3 2019-11-01 00:00:11+00:00              cart     5876812   \n",
       "4 2019-11-01 00:00:24+00:00  remove_from_cart     5826182   \n",
       "\n",
       "           category_id category_code     brand  price    user_id  \\\n",
       "0  1487580009286598681           NaN       NaN   0.32  562076640   \n",
       "1  1487580006317032337           NaN       NaN   2.38  553329724   \n",
       "2  1783999064103190764           NaN       pnb  22.22  556138645   \n",
       "3  1487580010100293687           NaN  jessnail   3.16  564506666   \n",
       "4  1487580007483048900           NaN       NaN   3.33  553329724   \n",
       "\n",
       "                           user_session  \n",
       "0  09fafd6c-6c99-46b1-834f-33527f4de241  \n",
       "1  2067216c-31b5-455d-a1cc-af0575a34ffb  \n",
       "2  57ed222e-a54a-4907-9944-5a875c2d7f4f  \n",
       "3  186c1951-8052-4b37-adce-dd9644b1d5f7  \n",
       "4  2067216c-31b5-455d-a1cc-af0575a34ffb  "
      ]
     },
     "execution_count": 7,
     "metadata": {},
     "output_type": "execute_result"
    }
   ],
   "source": [
    "data.head()"
   ]
  },
  {
   "cell_type": "code",
   "execution_count": 8,
   "id": "0a2c9804-2bc5-4971-908b-be9ca2084421",
   "metadata": {},
   "outputs": [],
   "source": [
    "#data=data.iloc[30:150000]\n",
    "data=data.sort_values(by=[\"user_id\",\"user_session\"])\n"
   ]
  },
  {
   "cell_type": "code",
   "execution_count": 9,
   "id": "a8440b86-5bb3-45a4-aaa2-86570251988a",
   "metadata": {},
   "outputs": [],
   "source": [
    "# the difference between one row to the next row, the difult is between one row to the previus row"
   ]
  },
  {
   "cell_type": "code",
   "execution_count": 10,
   "id": "181c569c-3b07-4734-bf6b-e5dc26877437",
   "metadata": {},
   "outputs": [],
   "source": [
    "data['duration_to_next_event']=data.groupby(\"user_session\")[\"event_time\"].diff(-1)"
   ]
  },
  {
   "cell_type": "code",
   "execution_count": 11,
   "id": "d6e59048-1eaa-441d-8e4f-ba2bd2a3f5e7",
   "metadata": {},
   "outputs": [],
   "source": [
    "data['duration_to_next_event']=data['duration_to_next_event'].dt.total_seconds()"
   ]
  },
  {
   "cell_type": "code",
   "execution_count": 12,
   "id": "726c26b0-c5c5-4bb6-90cd-be5cb8173bed",
   "metadata": {},
   "outputs": [],
   "source": [
    "# absolut values and fill the nan values as 0"
   ]
  },
  {
   "cell_type": "code",
   "execution_count": 13,
   "id": "e001c4e6-5302-4593-9b9b-b0864c8df987",
   "metadata": {},
   "outputs": [
    {
     "data": {
      "text/html": [
       "<div>\n",
       "<style scoped>\n",
       "    .dataframe tbody tr th:only-of-type {\n",
       "        vertical-align: middle;\n",
       "    }\n",
       "\n",
       "    .dataframe tbody tr th {\n",
       "        vertical-align: top;\n",
       "    }\n",
       "\n",
       "    .dataframe thead th {\n",
       "        text-align: right;\n",
       "    }\n",
       "</style>\n",
       "<table border=\"1\" class=\"dataframe\">\n",
       "  <thead>\n",
       "    <tr style=\"text-align: right;\">\n",
       "      <th></th>\n",
       "      <th>event_time</th>\n",
       "      <th>event_type</th>\n",
       "      <th>product_id</th>\n",
       "      <th>category_id</th>\n",
       "      <th>category_code</th>\n",
       "      <th>brand</th>\n",
       "      <th>price</th>\n",
       "      <th>user_id</th>\n",
       "      <th>user_session</th>\n",
       "      <th>duration_to_next_event</th>\n",
       "    </tr>\n",
       "  </thead>\n",
       "  <tbody>\n",
       "    <tr>\n",
       "      <th>437209</th>\n",
       "      <td>2019-11-04 15:28:57+00:00</td>\n",
       "      <td>view</td>\n",
       "      <td>5240</td>\n",
       "      <td>1487580009202712597</td>\n",
       "      <td>NaN</td>\n",
       "      <td>runail</td>\n",
       "      <td>4.05</td>\n",
       "      <td>1120748</td>\n",
       "      <td>d0484d94-7ac1-44e8-a310-2360da11ad9d</td>\n",
       "      <td>0.0</td>\n",
       "    </tr>\n",
       "    <tr>\n",
       "      <th>2494623</th>\n",
       "      <td>2019-11-19 11:14:48+00:00</td>\n",
       "      <td>view</td>\n",
       "      <td>5814066</td>\n",
       "      <td>1487580005855658874</td>\n",
       "      <td>NaN</td>\n",
       "      <td>grattol</td>\n",
       "      <td>2.3</td>\n",
       "      <td>1458813</td>\n",
       "      <td>6873a205-d9f5-4d51-b3eb-b4bfddfe907c</td>\n",
       "      <td>0.0</td>\n",
       "    </tr>\n",
       "    <tr>\n",
       "      <th>2640971</th>\n",
       "      <td>2019-11-20 11:58:06+00:00</td>\n",
       "      <td>view</td>\n",
       "      <td>5800358</td>\n",
       "      <td>1487580005553668971</td>\n",
       "      <td>NaN</td>\n",
       "      <td>NaN</td>\n",
       "      <td>7.46</td>\n",
       "      <td>1458813</td>\n",
       "      <td>921ff98c-a419-4132-af94-ee26880334b0</td>\n",
       "      <td>21.0</td>\n",
       "    </tr>\n",
       "    <tr>\n",
       "      <th>2641003</th>\n",
       "      <td>2019-11-20 11:58:27+00:00</td>\n",
       "      <td>view</td>\n",
       "      <td>5800349</td>\n",
       "      <td>1487580005553668971</td>\n",
       "      <td>NaN</td>\n",
       "      <td>NaN</td>\n",
       "      <td>7.46</td>\n",
       "      <td>1458813</td>\n",
       "      <td>921ff98c-a419-4132-af94-ee26880334b0</td>\n",
       "      <td>72.0</td>\n",
       "    </tr>\n",
       "    <tr>\n",
       "      <th>2641209</th>\n",
       "      <td>2019-11-20 11:59:39+00:00</td>\n",
       "      <td>view</td>\n",
       "      <td>5800349</td>\n",
       "      <td>1487580005553668971</td>\n",
       "      <td>NaN</td>\n",
       "      <td>NaN</td>\n",
       "      <td>7.46</td>\n",
       "      <td>1458813</td>\n",
       "      <td>921ff98c-a419-4132-af94-ee26880334b0</td>\n",
       "      <td>28.0</td>\n",
       "    </tr>\n",
       "  </tbody>\n",
       "</table>\n",
       "</div>"
      ],
      "text/plain": [
       "                       event_time event_type  product_id          category_id  \\\n",
       "437209  2019-11-04 15:28:57+00:00       view        5240  1487580009202712597   \n",
       "2494623 2019-11-19 11:14:48+00:00       view     5814066  1487580005855658874   \n",
       "2640971 2019-11-20 11:58:06+00:00       view     5800358  1487580005553668971   \n",
       "2641003 2019-11-20 11:58:27+00:00       view     5800349  1487580005553668971   \n",
       "2641209 2019-11-20 11:59:39+00:00       view     5800349  1487580005553668971   \n",
       "\n",
       "        category_code    brand price  user_id  \\\n",
       "437209            NaN   runail  4.05  1120748   \n",
       "2494623           NaN  grattol   2.3  1458813   \n",
       "2640971           NaN      NaN  7.46  1458813   \n",
       "2641003           NaN      NaN  7.46  1458813   \n",
       "2641209           NaN      NaN  7.46  1458813   \n",
       "\n",
       "                                 user_session  duration_to_next_event  \n",
       "437209   d0484d94-7ac1-44e8-a310-2360da11ad9d                     0.0  \n",
       "2494623  6873a205-d9f5-4d51-b3eb-b4bfddfe907c                     0.0  \n",
       "2640971  921ff98c-a419-4132-af94-ee26880334b0                    21.0  \n",
       "2641003  921ff98c-a419-4132-af94-ee26880334b0                    72.0  \n",
       "2641209  921ff98c-a419-4132-af94-ee26880334b0                    28.0  "
      ]
     },
     "execution_count": 13,
     "metadata": {},
     "output_type": "execute_result"
    }
   ],
   "source": [
    "data[\"duration_to_next_event\"]=data[\"duration_to_next_event\"].fillna(0)\n",
    "data[\"duration_to_next_event\"]=np.abs(data['duration_to_next_event'])\n",
    "data.head()\n"
   ]
  },
  {
   "cell_type": "markdown",
   "id": "b85896b1-da94-4afd-9ba0-73fc1b2d9434",
   "metadata": {},
   "source": [
    "### Q2"
   ]
  },
  {
   "cell_type": "code",
   "execution_count": 14,
   "id": "8136e7cd-a21a-434a-9c81-b3ba273d9fb7",
   "metadata": {},
   "outputs": [],
   "source": [
    "data=data.sort_values(by=[\"user_id\",\"event_time\"])"
   ]
  },
  {
   "cell_type": "code",
   "execution_count": 15,
   "id": "afc30471-00aa-4797-a54c-9519c18b9c52",
   "metadata": {},
   "outputs": [],
   "source": [
    "# Convert event_time column to datetime format and extract date only\n",
    "#data['event_time'] = pd.to_datetime(data['event_time']).dt.date"
   ]
  },
  {
   "cell_type": "code",
   "execution_count": 16,
   "id": "8b1a2731-4f1a-456c-b97e-64f25da8b467",
   "metadata": {},
   "outputs": [],
   "source": [
    "# Calculate time difference between consecutive events for each user\n",
    "data['time_diff'] = data.groupby('user_id')['event_time'].diff().fillna(pd.Timedelta(seconds=0))"
   ]
  },
  {
   "cell_type": "code",
   "execution_count": 17,
   "id": "5e3e3e07-0a0a-4967-b20a-337f7ffd891f",
   "metadata": {},
   "outputs": [],
   "source": [
    "# Calculate cumulative sum of time differences greater than 5 days for each user\n",
    "data['funnel_number'] = (data['time_diff'] > pd.Timedelta(days=5)).groupby(data['user_id']).cumsum() + 1"
   ]
  },
  {
   "cell_type": "markdown",
   "id": "6a0092d0-2451-494c-bca5-050cbdaf64fc",
   "metadata": {},
   "source": [
    "#### Exemple of 420448483 user_id after the new colummn funnel_number.\n",
    "#### We can see the difference funnel number for this user_id."
   ]
  },
  {
   "cell_type": "code",
   "execution_count": 18,
   "id": "4e242b01-a753-4f29-a242-0fe61279221c",
   "metadata": {},
   "outputs": [
    {
     "data": {
      "text/html": [
       "<div>\n",
       "<style scoped>\n",
       "    .dataframe tbody tr th:only-of-type {\n",
       "        vertical-align: middle;\n",
       "    }\n",
       "\n",
       "    .dataframe tbody tr th {\n",
       "        vertical-align: top;\n",
       "    }\n",
       "\n",
       "    .dataframe thead th {\n",
       "        text-align: right;\n",
       "    }\n",
       "</style>\n",
       "<table border=\"1\" class=\"dataframe\">\n",
       "  <thead>\n",
       "    <tr style=\"text-align: right;\">\n",
       "      <th></th>\n",
       "      <th>event_time</th>\n",
       "      <th>event_type</th>\n",
       "      <th>product_id</th>\n",
       "      <th>category_id</th>\n",
       "      <th>category_code</th>\n",
       "      <th>brand</th>\n",
       "      <th>price</th>\n",
       "      <th>user_id</th>\n",
       "      <th>user_session</th>\n",
       "      <th>duration_to_next_event</th>\n",
       "      <th>time_diff</th>\n",
       "      <th>funnel_number</th>\n",
       "    </tr>\n",
       "  </thead>\n",
       "  <tbody>\n",
       "    <tr>\n",
       "      <th>13954</th>\n",
       "      <td>2019-11-01 06:39:43+00:00</td>\n",
       "      <td>cart</td>\n",
       "      <td>5900636</td>\n",
       "      <td>1487580007675986893</td>\n",
       "      <td>NaN</td>\n",
       "      <td>NaN</td>\n",
       "      <td>0.0</td>\n",
       "      <td>420448483</td>\n",
       "      <td>7eade47d-02c6-44f6-991c-f9aa602f8a99</td>\n",
       "      <td>9.0</td>\n",
       "      <td>0 days 00:00:00</td>\n",
       "      <td>1</td>\n",
       "    </tr>\n",
       "    <tr>\n",
       "      <th>13962</th>\n",
       "      <td>2019-11-01 06:39:52+00:00</td>\n",
       "      <td>cart</td>\n",
       "      <td>5900633</td>\n",
       "      <td>1487580007675986893</td>\n",
       "      <td>NaN</td>\n",
       "      <td>NaN</td>\n",
       "      <td>0.0</td>\n",
       "      <td>420448483</td>\n",
       "      <td>7eade47d-02c6-44f6-991c-f9aa602f8a99</td>\n",
       "      <td>16.0</td>\n",
       "      <td>0 days 00:00:09</td>\n",
       "      <td>1</td>\n",
       "    </tr>\n",
       "    <tr>\n",
       "      <th>13983</th>\n",
       "      <td>2019-11-01 06:40:08+00:00</td>\n",
       "      <td>cart</td>\n",
       "      <td>5900628</td>\n",
       "      <td>1487580007675986893</td>\n",
       "      <td>NaN</td>\n",
       "      <td>NaN</td>\n",
       "      <td>0.0</td>\n",
       "      <td>420448483</td>\n",
       "      <td>7eade47d-02c6-44f6-991c-f9aa602f8a99</td>\n",
       "      <td>20.0</td>\n",
       "      <td>0 days 00:00:16</td>\n",
       "      <td>1</td>\n",
       "    </tr>\n",
       "    <tr>\n",
       "      <th>14003</th>\n",
       "      <td>2019-11-01 06:40:28+00:00</td>\n",
       "      <td>cart</td>\n",
       "      <td>5900621</td>\n",
       "      <td>1487580007675986893</td>\n",
       "      <td>NaN</td>\n",
       "      <td>NaN</td>\n",
       "      <td>0.0</td>\n",
       "      <td>420448483</td>\n",
       "      <td>7eade47d-02c6-44f6-991c-f9aa602f8a99</td>\n",
       "      <td>19.0</td>\n",
       "      <td>0 days 00:00:20</td>\n",
       "      <td>1</td>\n",
       "    </tr>\n",
       "    <tr>\n",
       "      <th>14024</th>\n",
       "      <td>2019-11-01 06:40:47+00:00</td>\n",
       "      <td>cart</td>\n",
       "      <td>5900613</td>\n",
       "      <td>1487580007675986893</td>\n",
       "      <td>NaN</td>\n",
       "      <td>NaN</td>\n",
       "      <td>0.0</td>\n",
       "      <td>420448483</td>\n",
       "      <td>7eade47d-02c6-44f6-991c-f9aa602f8a99</td>\n",
       "      <td>99.0</td>\n",
       "      <td>0 days 00:00:19</td>\n",
       "      <td>1</td>\n",
       "    </tr>\n",
       "  </tbody>\n",
       "</table>\n",
       "</div>"
      ],
      "text/plain": [
       "                     event_time event_type  product_id          category_id  \\\n",
       "13954 2019-11-01 06:39:43+00:00       cart     5900636  1487580007675986893   \n",
       "13962 2019-11-01 06:39:52+00:00       cart     5900633  1487580007675986893   \n",
       "13983 2019-11-01 06:40:08+00:00       cart     5900628  1487580007675986893   \n",
       "14003 2019-11-01 06:40:28+00:00       cart     5900621  1487580007675986893   \n",
       "14024 2019-11-01 06:40:47+00:00       cart     5900613  1487580007675986893   \n",
       "\n",
       "      category_code brand price    user_id  \\\n",
       "13954           NaN   NaN   0.0  420448483   \n",
       "13962           NaN   NaN   0.0  420448483   \n",
       "13983           NaN   NaN   0.0  420448483   \n",
       "14003           NaN   NaN   0.0  420448483   \n",
       "14024           NaN   NaN   0.0  420448483   \n",
       "\n",
       "                               user_session  duration_to_next_event  \\\n",
       "13954  7eade47d-02c6-44f6-991c-f9aa602f8a99                     9.0   \n",
       "13962  7eade47d-02c6-44f6-991c-f9aa602f8a99                    16.0   \n",
       "13983  7eade47d-02c6-44f6-991c-f9aa602f8a99                    20.0   \n",
       "14003  7eade47d-02c6-44f6-991c-f9aa602f8a99                    19.0   \n",
       "14024  7eade47d-02c6-44f6-991c-f9aa602f8a99                    99.0   \n",
       "\n",
       "            time_diff  funnel_number  \n",
       "13954 0 days 00:00:00              1  \n",
       "13962 0 days 00:00:09              1  \n",
       "13983 0 days 00:00:16              1  \n",
       "14003 0 days 00:00:20              1  \n",
       "14024 0 days 00:00:19              1  "
      ]
     },
     "execution_count": 18,
     "metadata": {},
     "output_type": "execute_result"
    }
   ],
   "source": [
    "data[data['user_id']==420448483].head()"
   ]
  },
  {
   "cell_type": "markdown",
   "id": "a55a709d-1f23-4073-bc85-1b8b6e3ee4b4",
   "metadata": {},
   "source": [
    "#### We can see the funnel number distribution of the users.\n",
    "#### Most of the users have only 1 funnel number."
   ]
  },
  {
   "cell_type": "code",
   "execution_count": 19,
   "id": "b9525d22-a224-4a44-a295-4a8813d4f87a",
   "metadata": {},
   "outputs": [
    {
     "data": {
      "image/png": "[encoded data removed]",
      "text/plain": [
       "<Figure size 720x432 with 1 Axes>"
      ]
     },
     "metadata": {
      "needs_background": "light"
     },
     "output_type": "display_data"
    }
   ],
   "source": [
    "plt.figure(figsize=(10,6))\n",
    "sns.countplot(x='funnel_number', hue='funnel_number', data=data)\n",
    "plt.show()"
   ]
  },
  {
   "cell_type": "markdown",
   "id": "52e1bc77-24ed-4f41-95e9-cc59a6c5661a",
   "metadata": {
    "tags": []
   },
   "source": [
    "## Q3"
   ]
  },
  {
   "cell_type": "code",
   "execution_count": 20,
   "id": "55c39b83-b40f-4715-8133-e1e40a0c6d59",
   "metadata": {},
   "outputs": [
    {
     "data": {
      "text/html": [
       "<div>\n",
       "<style scoped>\n",
       "    .dataframe tbody tr th:only-of-type {\n",
       "        vertical-align: middle;\n",
       "    }\n",
       "\n",
       "    .dataframe tbody tr th {\n",
       "        vertical-align: top;\n",
       "    }\n",
       "\n",
       "    .dataframe thead th {\n",
       "        text-align: right;\n",
       "    }\n",
       "</style>\n",
       "<table border=\"1\" class=\"dataframe\">\n",
       "  <thead>\n",
       "    <tr style=\"text-align: right;\">\n",
       "      <th></th>\n",
       "      <th>event_time</th>\n",
       "      <th>event_type</th>\n",
       "      <th>product_id</th>\n",
       "      <th>category_id</th>\n",
       "      <th>category_code</th>\n",
       "      <th>brand</th>\n",
       "      <th>price</th>\n",
       "      <th>user_id</th>\n",
       "      <th>user_session</th>\n",
       "      <th>duration_to_next_event</th>\n",
       "      <th>time_diff</th>\n",
       "      <th>funnel_number</th>\n",
       "      <th>index_in_funnel</th>\n",
       "    </tr>\n",
       "  </thead>\n",
       "  <tbody>\n",
       "    <tr>\n",
       "      <th>437209</th>\n",
       "      <td>2019-11-04 15:28:57+00:00</td>\n",
       "      <td>view</td>\n",
       "      <td>5240</td>\n",
       "      <td>1487580009202712597</td>\n",
       "      <td>NaN</td>\n",
       "      <td>runail</td>\n",
       "      <td>4.05</td>\n",
       "      <td>1120748</td>\n",
       "      <td>d0484d94-7ac1-44e8-a310-2360da11ad9d</td>\n",
       "      <td>0.0</td>\n",
       "      <td>0 days 00:00:00</td>\n",
       "      <td>1</td>\n",
       "      <td>1</td>\n",
       "    </tr>\n",
       "    <tr>\n",
       "      <th>2483241</th>\n",
       "      <td>2019-11-19 09:56:09+00:00</td>\n",
       "      <td>view</td>\n",
       "      <td>5711145</td>\n",
       "      <td>1487580005008409427</td>\n",
       "      <td>NaN</td>\n",
       "      <td>f.o.x</td>\n",
       "      <td>6.03</td>\n",
       "      <td>1458813</td>\n",
       "      <td>b16644a2-44db-4650-8156-f6f03782d432</td>\n",
       "      <td>0.0</td>\n",
       "      <td>0 days 00:00:00</td>\n",
       "      <td>1</td>\n",
       "      <td>1</td>\n",
       "    </tr>\n",
       "    <tr>\n",
       "      <th>2494623</th>\n",
       "      <td>2019-11-19 11:14:48+00:00</td>\n",
       "      <td>view</td>\n",
       "      <td>5814066</td>\n",
       "      <td>1487580005855658874</td>\n",
       "      <td>NaN</td>\n",
       "      <td>grattol</td>\n",
       "      <td>2.3</td>\n",
       "      <td>1458813</td>\n",
       "      <td>6873a205-d9f5-4d51-b3eb-b4bfddfe907c</td>\n",
       "      <td>0.0</td>\n",
       "      <td>0 days 01:18:39</td>\n",
       "      <td>1</td>\n",
       "      <td>2</td>\n",
       "    </tr>\n",
       "    <tr>\n",
       "      <th>2640971</th>\n",
       "      <td>2019-11-20 11:58:06+00:00</td>\n",
       "      <td>view</td>\n",
       "      <td>5800358</td>\n",
       "      <td>1487580005553668971</td>\n",
       "      <td>NaN</td>\n",
       "      <td>NaN</td>\n",
       "      <td>7.46</td>\n",
       "      <td>1458813</td>\n",
       "      <td>921ff98c-a419-4132-af94-ee26880334b0</td>\n",
       "      <td>21.0</td>\n",
       "      <td>1 days 00:43:18</td>\n",
       "      <td>1</td>\n",
       "      <td>3</td>\n",
       "    </tr>\n",
       "    <tr>\n",
       "      <th>2641003</th>\n",
       "      <td>2019-11-20 11:58:27+00:00</td>\n",
       "      <td>view</td>\n",
       "      <td>5800349</td>\n",
       "      <td>1487580005553668971</td>\n",
       "      <td>NaN</td>\n",
       "      <td>NaN</td>\n",
       "      <td>7.46</td>\n",
       "      <td>1458813</td>\n",
       "      <td>921ff98c-a419-4132-af94-ee26880334b0</td>\n",
       "      <td>72.0</td>\n",
       "      <td>0 days 00:00:21</td>\n",
       "      <td>1</td>\n",
       "      <td>4</td>\n",
       "    </tr>\n",
       "  </tbody>\n",
       "</table>\n",
       "</div>"
      ],
      "text/plain": [
       "                       event_time event_type  product_id          category_id  \\\n",
       "437209  2019-11-04 15:28:57+00:00       view        5240  1487580009202712597   \n",
       "2483241 2019-11-19 09:56:09+00:00       view     5711145  1487580005008409427   \n",
       "2494623 2019-11-19 11:14:48+00:00       view     5814066  1487580005855658874   \n",
       "2640971 2019-11-20 11:58:06+00:00       view     5800358  1487580005553668971   \n",
       "2641003 2019-11-20 11:58:27+00:00       view     5800349  1487580005553668971   \n",
       "\n",
       "        category_code    brand price  user_id  \\\n",
       "437209            NaN   runail  4.05  1120748   \n",
       "2483241           NaN    f.o.x  6.03  1458813   \n",
       "2494623           NaN  grattol   2.3  1458813   \n",
       "2640971           NaN      NaN  7.46  1458813   \n",
       "2641003           NaN      NaN  7.46  1458813   \n",
       "\n",
       "                                 user_session  duration_to_next_event  \\\n",
       "437209   d0484d94-7ac1-44e8-a310-2360da11ad9d                     0.0   \n",
       "2483241  b16644a2-44db-4650-8156-f6f03782d432                     0.0   \n",
       "2494623  6873a205-d9f5-4d51-b3eb-b4bfddfe907c                     0.0   \n",
       "2640971  921ff98c-a419-4132-af94-ee26880334b0                    21.0   \n",
       "2641003  921ff98c-a419-4132-af94-ee26880334b0                    72.0   \n",
       "\n",
       "              time_diff  funnel_number  index_in_funnel  \n",
       "437209  0 days 00:00:00              1                1  \n",
       "2483241 0 days 00:00:00              1                1  \n",
       "2494623 0 days 01:18:39              1                2  \n",
       "2640971 1 days 00:43:18              1                3  \n",
       "2641003 0 days 00:00:21              1                4  "
      ]
     },
     "execution_count": 20,
     "metadata": {},
     "output_type": "execute_result"
    }
   ],
   "source": [
    "data['index_in_funnel']=data.groupby(['user_id','funnel_number'])['event_time'].cumcount()+1\n",
    "data.head()"
   ]
  },
  {
   "cell_type": "markdown",
   "id": "01d5ab39-d176-4aa4-a925-e94ad2b2e3cc",
   "metadata": {},
   "source": [
    "### Q4"
   ]
  },
  {
   "cell_type": "code",
   "execution_count": null,
   "id": "fce18962-5fc5-4bcc-a362-78c635a9334b",
   "metadata": {},
   "outputs": [],
   "source": [
    "data['price'] = data['price'].apply(lambda x: float(re.findall('([0-9].+?)', str(x))[0]))\n",
    "data.head()"
   ]
  },
  {
   "cell_type": "markdown",
   "id": "92f5d02e-5d2a-4bc1-81b6-695c679a3ac6",
   "metadata": {},
   "source": [
    "#### Two ways to check that the price column not contain string values."
   ]
  },
  {
   "cell_type": "code",
   "execution_count": null,
   "id": "4ae89e34-ac67-4219-98a5-5f4cbc7e1042",
   "metadata": {},
   "outputs": [],
   "source": [
    "if data['price'].dtype == \"object\":\n",
    "    print(\"price column contain string\")\n",
    "else:\n",
    "    print(\"price column not contain string\")\n",
    "\n",
    "data['price'].dtype"
   ]
  },
  {
   "cell_type": "markdown",
   "id": "c3aeb8de-e6c5-4f02-9aa5-dd68146f66ce",
   "metadata": {},
   "source": [
    "## Q5"
   ]
  },
  {
   "cell_type": "code",
   "execution_count": null,
   "id": "2af51532-7764-4e44-963c-25c76cfe2593",
   "metadata": {},
   "outputs": [],
   "source": [
    "plt.figure(figsize=(10,6))\n",
    "sns.countplot(x='event_type', hue='event_type', data=data)\n",
    "plt.show()"
   ]
  },
  {
   "cell_type": "markdown",
   "id": "4650f7ee-f929-4ad6-bf92-87546afb9bd4",
   "metadata": {},
   "source": [
    "## Q6"
   ]
  },
  {
   "cell_type": "code",
   "execution_count": null,
   "id": "1c75ee42-9938-41d9-8746-4eeaec8d6a8e",
   "metadata": {},
   "outputs": [],
   "source": [
    "session_data = data[['user_id', 'user_session', 'funnel_number', 'index_in_funnel']]\n",
    "session_data"
   ]
  },
  {
   "cell_type": "markdown",
   "id": "dd7242ac-06d8-441e-ab9a-34b609656449",
   "metadata": {},
   "source": [
    "#### Create the column number of visit with transform('count')."
   ]
  },
  {
   "cell_type": "code",
   "execution_count": null,
   "id": "4d984941-5001-427e-aa57-253a81d650c7",
   "metadata": {},
   "outputs": [],
   "source": [
    "session_data['number_of_visit'] = data.groupby('user_session')['event_time'].transform('count')\n",
    "session_data"
   ]
  },
  {
   "cell_type": "markdown",
   "id": "f8e86462-acd5-4e9e-b97e-9de173493a5f",
   "metadata": {},
   "source": [
    "#### Create the column duration time."
   ]
  },
  {
   "cell_type": "code",
   "execution_count": null,
   "id": "c40a3219-2356-467c-9983-ae7f292abeaa",
   "metadata": {},
   "outputs": [],
   "source": [
    "session_data['session_duration'] = data.groupby('user_session')['event_time'].transform(lambda x: (x.max() - x.min()))\n",
    "session_data['session_duration'] = pd.to_timedelta(session_data['session_duration'])\n",
    "session_data"
   ]
  },
  {
   "cell_type": "code",
   "execution_count": null,
   "id": "7f0924ba-8c02-4153-b428-8b287023fba0",
   "metadata": {},
   "outputs": [],
   "source": []
  },
  {
   "cell_type": "markdown",
   "id": "186d502a-ff49-41d8-a7b3-1862210d8a93",
   "metadata": {},
   "source": [
    "#### Create the column list_of_viewed.\n",
    "#### Create list and then merge with the data."
   ]
  },
  {
   "cell_type": "code",
   "execution_count": null,
   "id": "38f8ff54-e44a-4fa2-be99-d10d32c13b8e",
   "metadata": {},
   "outputs": [],
   "source": [
    "list_of_viewed = data[data['event_type']=='view'].groupby('user_session')['product_id'].agg(lambda x: list(x)).reset_index(name='list_of_viewed')\n",
    "session_data = session_data.merge(list_of_viewed, on='user_session', how='left')\n"
   ]
  },
  {
   "cell_type": "markdown",
   "id": "637f484c-84e9-473b-a7b2-135dd318827a",
   "metadata": {},
   "source": [
    "#### Create the column list_of_added_to_cart.\n",
    "#### Create list and then merge with the data.\n",
    "#### A lot of the values are NaN because a lot of the users are not add any products to cart.\n",
    "#### We see how much users do not add any product to cart so we have NaN values."
   ]
  },
  {
   "cell_type": "code",
   "execution_count": null,
   "id": "4bbe3b15-8fd4-4b02-8355-1fcd3e50135b",
   "metadata": {},
   "outputs": [],
   "source": [
    "session_data.list_of_added_to_cart.isna().sum()"
   ]
  },
  {
   "cell_type": "code",
   "execution_count": null,
   "id": "93200f4c-7534-4814-8fd2-c632aaaa435e",
   "metadata": {},
   "outputs": [],
   "source": [
    "list_of_added_to_cart = data[data['event_type']=='cart'].groupby('user_session')['product_id'].agg(lambda x: list(x)).reset_index(name='list_of_added_to_cart')\n",
    "session_data = session_data.merge(list_of_added_to_cart, on='user_session', how='left')\n"
   ]
  },
  {
   "cell_type": "markdown",
   "id": "1406cafd-6d9b-40e5-bc44-3f3b83eac4ca",
   "metadata": {},
   "source": [
    "#### Create the column list_of_purchased.\n",
    "#### Create list and then merge with the data.\n",
    "#### A lot of the values are NaN because most of the users are not bought any products."
   ]
  },
  {
   "cell_type": "code",
   "execution_count": null,
   "id": "4b1cfbd3-1467-45ed-b7a2-fdfb0018b7c0",
   "metadata": {},
   "outputs": [],
   "source": [
    "list_of_purchased = data[data['event_type']=='purchase'].groupby('user_session')['product_id'].agg(lambda x: list(x)).reset_index(name='list_of_purchased')\n",
    "session_data = session_data.merge(list_of_purchased, on='user_session', how='left')\n"
   ]
  },
  {
   "cell_type": "markdown",
   "id": "570a6bd4-a3cd-4392-b44f-c561a1ca0d50",
   "metadata": {},
   "source": [
    "#### Last thing we show the new data with the 9 column."
   ]
  },
  {
   "cell_type": "code",
   "execution_count": null,
   "id": "eda610b0-d964-442d-986b-42c7539e52b6",
   "metadata": {},
   "outputs": [],
   "source": [
    "session_data.head()"
   ]
  },
  {
   "cell_type": "code",
   "execution_count": null,
   "id": "3dead7cd-67e4-45cb-a9e3-6db9c0d54e86",
   "metadata": {},
   "outputs": [],
   "source": []
  },
  {
   "cell_type": "code",
   "execution_count": null,
   "id": "f1f6a1da-bef0-41e7-ac23-b7f2a8a61e25",
   "metadata": {},
   "outputs": [],
   "source": []
  }
 ],
 "metadata": {
  "kernelspec": {
   "display_name": "Python 3 (ipykernel)",
   "language": "python",
   "name": "python3"
  },
  "language_info": {
   "codemirror_mode": {
    "name": "ipython",
    "version": 3
   },
   "file_extension": ".py",
   "mimetype": "text/x-python",
   "name": "python",
   "nbconvert_exporter": "python",
   "pygments_lexer": "ipython3",
   "version": "3.9.12"
  },
  "toc-autonumbering": false,
  "toc-showcode": true,
  "toc-showmarkdowntxt": true,
  "toc-showtags": false
 },
 "nbformat": 4,
 "nbformat_minor": 5
}
